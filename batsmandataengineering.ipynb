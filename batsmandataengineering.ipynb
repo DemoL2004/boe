{
 "cells": [
  {
   "cell_type": "markdown",
   "metadata": {
    "papermill": {
     "duration": 0.028712,
     "end_time": "2022-03-20T15:01:48.198351",
     "exception": false,
     "start_time": "2022-03-20T15:01:48.169639",
     "status": "completed"
    },
    "tags": []
   },
   "source": [
    "# IMPORTANT NOTE FOR PERSONAL_MALE.CSV\n",
    "\n",
    "** Hi, for anyone interested in getting the project for your personal use, kindly mail me at vaibhavnaudiyal92@gmail.com \n",
    " \n",
    "This project has 4 main parts:\n",
    "1. Batsman Data Engineering\n",
    "2. Bowler Data Engineering\n",
    "3. Batsman Prediction\n",
    "4. Bowler Prediction\n",
    "\n",
    "I will be providing the dataset at a reasonable cost including the personal datasets, Research paper, Batsman Prediction code and Bowler Data Engineering code (currently in private mode). Additional queries will also be answered regarding the project. Thank you for your time. **\n"
   ]
  },
  {
   "cell_type": "markdown",
   "metadata": {
    "papermill": {
     "duration": 0.028898,
     "end_time": "2022-03-20T15:01:48.256656",
     "exception": false,
     "start_time": "2022-03-20T15:01:48.227758",
     "status": "completed"
    },
    "tags": []
   },
   "source": [
    "# Introduction\n",
    "Cricket is a sport played by two teams with each side having eleven players. Each team is a right\n",
    "blend of batsmen, bowlers and allrounders. The batsmen’s role is to score maximum runs possible\n",
    "and the bowlers have to take maximum wickets and restrict the other team from scoring runs at the\n",
    "same time. Allrounders are the players who can both bat and bowl and they contribute by scoring\n",
    "runs and taking wickets. Each player contributes towards the overall performance of the team by\n",
    "giving his best performance in each match. Each player’s performance varies with factors like the\n",
    "team he is playing against and the ground at which the match is being played. It is important to\n",
    "select the right players that can perform the best in each match. The performance of a player also\n",
    "depends on several factors like his current form, his performance against a particular team, his\n",
    "performance at a particular venue etc. The team management, the coach and the captain analyze\n",
    "each player’s characteristics, abilities and past stats to select the best playing XI for a given match.\n",
    "In other words, they try to predict the players’ performance for each match.\n",
    "In this project, we predict the players’ performance in One Day International (ODI) matches by\n",
    "analyzing their characteristics and stats using supervised machine learning techniques. For this,\n",
    "we predict batsmen’s and bowlers’ performance separately as how many runs will a batsman\n",
    "score and how many wickets will a bowler take in a particular match. "
   ]
  },
  {
   "cell_type": "markdown",
   "metadata": {
    "papermill": {
     "duration": 0.028065,
     "end_time": "2022-03-20T15:01:48.313117",
     "exception": false,
     "start_time": "2022-03-20T15:01:48.285052",
     "status": "completed"
    },
    "tags": []
   },
   "source": [
    "# Overview\n",
    "This project has 4 main parts:\n",
    "1. Batsman Data Engineering\n",
    "2. Bowler Data Engineering\n",
    "3. Batsman Prediction\n",
    "4. Bowler Prediction\n",
    "\n",
    "Each of the part has been implemented in seperate notebooks. First two are for data engineering and other two are for model implementation and predictions."
   ]
  },
  {
   "cell_type": "markdown",
   "metadata": {
    "papermill": {
     "duration": 0.028273,
     "end_time": "2022-03-20T15:01:48.369566",
     "exception": false,
     "start_time": "2022-03-20T15:01:48.341293",
     "status": "completed"
    },
    "tags": []
   },
   "source": [
    "# Acknowledgements\n",
    "* The following project is based on a research paper contributed by Kalpdrum Passi and Niravkumar Pandey\n",
    "**Department of Mathematics and Computer Science**\n",
    "**Laurentian University, Sudbury, Canada**\n",
    "\n",
    "* The following dataset in scraped from espncricinfo.com\n"
   ]
  },
  {
   "cell_type": "markdown",
   "metadata": {
    "papermill": {
     "duration": 0.027909,
     "end_time": "2022-03-20T15:01:48.426007",
     "exception": false,
     "start_time": "2022-03-20T15:01:48.398098",
     "status": "completed"
    },
    "tags": []
   },
   "source": [
    "# Approach\n",
    "The stats of the players such as average, strike rate etc. are\n",
    "not available directly for each game, we calculated these attributes from the innings by innings\n",
    "list using aggregate functions and mathematical formulae. The formulaes and values are referenced from the research paper. These attributes are generally used to\n",
    "measure a player’s performance. They are as follows: \n",
    "### Batting Attributes\n",
    "1. No. of Innings: \n",
    "The number of innings in which the batsman has batted till the day of the match.\n",
    "This attribute signifies the experience of the batsman. The more innings the batsman has played,\n",
    "the more experienced the player is.\n",
    "\n",
    "2. Batting Average: \n",
    "Batting average commonly referred to as average is the average number of runs\n",
    "scored per innings. This attribute indicates the run scoring capability of the player.\n",
    "**Average = Runs Scored / Number of times dismissed**\n",
    "\n",
    "3. Strike Rate (SR): \n",
    "Strike rate is the average number of runs scored per 100 balls faced. In limited\n",
    "overs cricket, it is important to score runs at a fast pace. More runs scored at a slow pace is rather\n",
    "harmful to the team as they have a limited number of overs. This attribute indicates how quickly\n",
    "the batsman can score runs.\n",
    "**Strike Rate: (Runs Scored / Balls Faced) * 100**\n",
    "\n",
    "4. Centuries: \n",
    "Number of innings in which the batsman scored more than 100 runs. This attribute\n",
    "indicates the capability of the player to play longer innings and score more runs.\n",
    "\n",
    "5. Fifties: \n",
    "Number of innings in which the batsman scored more than 50 (and less than 100)\n",
    "runs.This attribute indicates the capability of the player to play longer innings and score more runs.\n",
    "\n",
    "6. Zeros: \n",
    "Number of innings in which the batsman was dismissed without scoring a single run. This\n",
    "attribute shows how many times the batsman failed to score runs, hence this being a negative\n",
    "factor, was impacts the batsman’s prediction negatively. \n",
    "\n",
    "\n",
    "### Bowling Attributes\n",
    "1. No. of Innings:\n",
    "The number of innings in which the bowler bowled at least one ball. It represents\n",
    "the bowling experience of a player. The more innings the player has played, the more experienced\n",
    "the player is.\n",
    "Overs: The number of overs bowled by a bowler.This attribute also indicates the experience\n",
    "of the bowler. The more overs the bowler has bowled, the more experienced the bowler\n",
    "is.\n",
    "2. Bowling Average:\n",
    "Bowling average is the number of runs conceded by a bowler per\n",
    "wicket taken. This attribute indicates the capabilities of the bowler to restrict the batsmen\n",
    "from scoring runs and taking wickets at the same time. Lower values of bowling average\n",
    "indicate more capabilities.\n",
    "3. Bowling Average:\n",
    "**Number of runs conceded / Number of wickets taken**\n",
    "4. Bowling Strike Rate:\n",
    "Bowling strike rate is the number of balls bowled per wicket taken.\n",
    "This attribute indicates the wicket taking capability of the bowler. Lower values mean\n",
    "that the bowler is capable of taking wickets quickly.\n",
    "5. Strike Rate:\n",
    "**Number of balls bowled / Number of wickets taken**\n",
    "6. Four/Five Wicket Haul:\n",
    "Number of innings in which the bowler has taken more than four\n",
    "wickets. This attribute indicates the capability of the bowler to take more wickets in an\n",
    "innings. Higher the value, more capable the player. \n"
   ]
  },
  {
   "cell_type": "code",
   "execution_count": 1,
   "metadata": {
    "_cell_guid": "b1076dfc-b9ad-4769-8c92-a6c4dae69d19",
    "_uuid": "8f2839f25d086af736a60e9eeb907d3b93b6e0e5",
    "execution": {
     "iopub.execute_input": "2022-03-20T15:01:48.485722Z",
     "iopub.status.busy": "2022-03-20T15:01:48.485013Z",
     "iopub.status.idle": "2022-03-20T15:01:48.507844Z",
     "shell.execute_reply": "2022-03-20T15:01:48.508393Z"
    },
    "papermill": {
     "duration": 0.054255,
     "end_time": "2022-03-20T15:01:48.508569",
     "exception": false,
     "start_time": "2022-03-20T15:01:48.454314",
     "status": "completed"
    },
    "tags": []
   },
   "outputs": [],
   "source": [
    "import numpy as np \n",
    "import pandas as pd \n",
    "import re\n",
    "import os\n",
    "for dirname, _, filenames in os.walk('/kaggle/input'):\n",
    "    for filename in filenames:\n",
    "        print(os.path.join(dirname, filename))"
   ]
  },
  {
   "cell_type": "code",
   "execution_count": 2,
   "metadata": {
    "_cell_guid": "79c7e3d0-c299-4dcb-8224-4455121ee9b0",
    "_uuid": "d629ff2d2480ee46fbb7e2d37f6b5fab8052498a",
    "execution": {
     "iopub.execute_input": "2022-03-20T15:01:48.598147Z",
     "iopub.status.busy": "2022-03-20T15:01:48.597495Z",
     "iopub.status.idle": "2022-03-20T15:01:49.902598Z",
     "shell.execute_reply": "2022-03-20T15:01:49.902180Z"
    },
    "papermill": {
     "duration": 1.350906,
     "end_time": "2022-03-20T15:01:49.902714",
     "exception": false,
     "start_time": "2022-03-20T15:01:48.551808",
     "status": "completed"
    },
    "tags": []
   },
   "outputs": [
    {
     "ename": "FileNotFoundError",
     "evalue": "[Errno 2] No such file or directory: '/kaggle/input/cricinfo-statsguru-data/Men ODI Player Innings Stats - 21st Century.csv'",
     "output_type": "error",
     "traceback": [
      "\u001b[1;31m---------------------------------------------------------------------------\u001b[0m",
      "\u001b[1;31mFileNotFoundError\u001b[0m                         Traceback (most recent call last)",
      "Cell \u001b[1;32mIn [2], line 1\u001b[0m\n\u001b[1;32m----> 1\u001b[0m dataset\u001b[38;5;241m=\u001b[39m\u001b[43mpd\u001b[49m\u001b[38;5;241;43m.\u001b[39;49m\u001b[43mread_csv\u001b[49m\u001b[43m(\u001b[49m\u001b[38;5;124;43m'\u001b[39;49m\u001b[38;5;124;43m/kaggle/input/cricinfo-statsguru-data/Men ODI Player Innings Stats - 21st Century.csv\u001b[39;49m\u001b[38;5;124;43m'\u001b[39;49m\u001b[43m)\u001b[49m\n",
      "File \u001b[1;32m~\\AppData\\Local\\Programs\\Python\\Python310\\lib\\site-packages\\pandas\\util\\_decorators.py:211\u001b[0m, in \u001b[0;36mdeprecate_kwarg.<locals>._deprecate_kwarg.<locals>.wrapper\u001b[1;34m(*args, **kwargs)\u001b[0m\n\u001b[0;32m    209\u001b[0m     \u001b[38;5;28;01melse\u001b[39;00m:\n\u001b[0;32m    210\u001b[0m         kwargs[new_arg_name] \u001b[38;5;241m=\u001b[39m new_arg_value\n\u001b[1;32m--> 211\u001b[0m \u001b[38;5;28;01mreturn\u001b[39;00m func(\u001b[38;5;241m*\u001b[39margs, \u001b[38;5;241m*\u001b[39m\u001b[38;5;241m*\u001b[39mkwargs)\n",
      "File \u001b[1;32m~\\AppData\\Local\\Programs\\Python\\Python310\\lib\\site-packages\\pandas\\util\\_decorators.py:331\u001b[0m, in \u001b[0;36mdeprecate_nonkeyword_arguments.<locals>.decorate.<locals>.wrapper\u001b[1;34m(*args, **kwargs)\u001b[0m\n\u001b[0;32m    325\u001b[0m \u001b[38;5;28;01mif\u001b[39;00m \u001b[38;5;28mlen\u001b[39m(args) \u001b[38;5;241m>\u001b[39m num_allow_args:\n\u001b[0;32m    326\u001b[0m     warnings\u001b[38;5;241m.\u001b[39mwarn(\n\u001b[0;32m    327\u001b[0m         msg\u001b[38;5;241m.\u001b[39mformat(arguments\u001b[38;5;241m=\u001b[39m_format_argument_list(allow_args)),\n\u001b[0;32m    328\u001b[0m         \u001b[38;5;167;01mFutureWarning\u001b[39;00m,\n\u001b[0;32m    329\u001b[0m         stacklevel\u001b[38;5;241m=\u001b[39mfind_stack_level(),\n\u001b[0;32m    330\u001b[0m     )\n\u001b[1;32m--> 331\u001b[0m \u001b[38;5;28;01mreturn\u001b[39;00m func(\u001b[38;5;241m*\u001b[39margs, \u001b[38;5;241m*\u001b[39m\u001b[38;5;241m*\u001b[39mkwargs)\n",
      "File \u001b[1;32m~\\AppData\\Local\\Programs\\Python\\Python310\\lib\\site-packages\\pandas\\io\\parsers\\readers.py:950\u001b[0m, in \u001b[0;36mread_csv\u001b[1;34m(filepath_or_buffer, sep, delimiter, header, names, index_col, usecols, squeeze, prefix, mangle_dupe_cols, dtype, engine, converters, true_values, false_values, skipinitialspace, skiprows, skipfooter, nrows, na_values, keep_default_na, na_filter, verbose, skip_blank_lines, parse_dates, infer_datetime_format, keep_date_col, date_parser, dayfirst, cache_dates, iterator, chunksize, compression, thousands, decimal, lineterminator, quotechar, quoting, doublequote, escapechar, comment, encoding, encoding_errors, dialect, error_bad_lines, warn_bad_lines, on_bad_lines, delim_whitespace, low_memory, memory_map, float_precision, storage_options)\u001b[0m\n\u001b[0;32m    935\u001b[0m kwds_defaults \u001b[38;5;241m=\u001b[39m _refine_defaults_read(\n\u001b[0;32m    936\u001b[0m     dialect,\n\u001b[0;32m    937\u001b[0m     delimiter,\n\u001b[1;32m   (...)\u001b[0m\n\u001b[0;32m    946\u001b[0m     defaults\u001b[38;5;241m=\u001b[39m{\u001b[38;5;124m\"\u001b[39m\u001b[38;5;124mdelimiter\u001b[39m\u001b[38;5;124m\"\u001b[39m: \u001b[38;5;124m\"\u001b[39m\u001b[38;5;124m,\u001b[39m\u001b[38;5;124m\"\u001b[39m},\n\u001b[0;32m    947\u001b[0m )\n\u001b[0;32m    948\u001b[0m kwds\u001b[38;5;241m.\u001b[39mupdate(kwds_defaults)\n\u001b[1;32m--> 950\u001b[0m \u001b[38;5;28;01mreturn\u001b[39;00m \u001b[43m_read\u001b[49m\u001b[43m(\u001b[49m\u001b[43mfilepath_or_buffer\u001b[49m\u001b[43m,\u001b[49m\u001b[43m \u001b[49m\u001b[43mkwds\u001b[49m\u001b[43m)\u001b[49m\n",
      "File \u001b[1;32m~\\AppData\\Local\\Programs\\Python\\Python310\\lib\\site-packages\\pandas\\io\\parsers\\readers.py:605\u001b[0m, in \u001b[0;36m_read\u001b[1;34m(filepath_or_buffer, kwds)\u001b[0m\n\u001b[0;32m    602\u001b[0m _validate_names(kwds\u001b[38;5;241m.\u001b[39mget(\u001b[38;5;124m\"\u001b[39m\u001b[38;5;124mnames\u001b[39m\u001b[38;5;124m\"\u001b[39m, \u001b[38;5;28;01mNone\u001b[39;00m))\n\u001b[0;32m    604\u001b[0m \u001b[38;5;66;03m# Create the parser.\u001b[39;00m\n\u001b[1;32m--> 605\u001b[0m parser \u001b[38;5;241m=\u001b[39m TextFileReader(filepath_or_buffer, \u001b[38;5;241m*\u001b[39m\u001b[38;5;241m*\u001b[39mkwds)\n\u001b[0;32m    607\u001b[0m \u001b[38;5;28;01mif\u001b[39;00m chunksize \u001b[38;5;129;01mor\u001b[39;00m iterator:\n\u001b[0;32m    608\u001b[0m     \u001b[38;5;28;01mreturn\u001b[39;00m parser\n",
      "File \u001b[1;32m~\\AppData\\Local\\Programs\\Python\\Python310\\lib\\site-packages\\pandas\\io\\parsers\\readers.py:1442\u001b[0m, in \u001b[0;36mTextFileReader.__init__\u001b[1;34m(self, f, engine, **kwds)\u001b[0m\n\u001b[0;32m   1439\u001b[0m     \u001b[38;5;28mself\u001b[39m\u001b[38;5;241m.\u001b[39moptions[\u001b[38;5;124m\"\u001b[39m\u001b[38;5;124mhas_index_names\u001b[39m\u001b[38;5;124m\"\u001b[39m] \u001b[38;5;241m=\u001b[39m kwds[\u001b[38;5;124m\"\u001b[39m\u001b[38;5;124mhas_index_names\u001b[39m\u001b[38;5;124m\"\u001b[39m]\n\u001b[0;32m   1441\u001b[0m \u001b[38;5;28mself\u001b[39m\u001b[38;5;241m.\u001b[39mhandles: IOHandles \u001b[38;5;241m|\u001b[39m \u001b[38;5;28;01mNone\u001b[39;00m \u001b[38;5;241m=\u001b[39m \u001b[38;5;28;01mNone\u001b[39;00m\n\u001b[1;32m-> 1442\u001b[0m \u001b[38;5;28mself\u001b[39m\u001b[38;5;241m.\u001b[39m_engine \u001b[38;5;241m=\u001b[39m \u001b[38;5;28;43mself\u001b[39;49m\u001b[38;5;241;43m.\u001b[39;49m\u001b[43m_make_engine\u001b[49m\u001b[43m(\u001b[49m\u001b[43mf\u001b[49m\u001b[43m,\u001b[49m\u001b[43m \u001b[49m\u001b[38;5;28;43mself\u001b[39;49m\u001b[38;5;241;43m.\u001b[39;49m\u001b[43mengine\u001b[49m\u001b[43m)\u001b[49m\n",
      "File \u001b[1;32m~\\AppData\\Local\\Programs\\Python\\Python310\\lib\\site-packages\\pandas\\io\\parsers\\readers.py:1735\u001b[0m, in \u001b[0;36mTextFileReader._make_engine\u001b[1;34m(self, f, engine)\u001b[0m\n\u001b[0;32m   1733\u001b[0m     \u001b[38;5;28;01mif\u001b[39;00m \u001b[38;5;124m\"\u001b[39m\u001b[38;5;124mb\u001b[39m\u001b[38;5;124m\"\u001b[39m \u001b[38;5;129;01mnot\u001b[39;00m \u001b[38;5;129;01min\u001b[39;00m mode:\n\u001b[0;32m   1734\u001b[0m         mode \u001b[38;5;241m+\u001b[39m\u001b[38;5;241m=\u001b[39m \u001b[38;5;124m\"\u001b[39m\u001b[38;5;124mb\u001b[39m\u001b[38;5;124m\"\u001b[39m\n\u001b[1;32m-> 1735\u001b[0m \u001b[38;5;28mself\u001b[39m\u001b[38;5;241m.\u001b[39mhandles \u001b[38;5;241m=\u001b[39m \u001b[43mget_handle\u001b[49m\u001b[43m(\u001b[49m\n\u001b[0;32m   1736\u001b[0m \u001b[43m    \u001b[49m\u001b[43mf\u001b[49m\u001b[43m,\u001b[49m\n\u001b[0;32m   1737\u001b[0m \u001b[43m    \u001b[49m\u001b[43mmode\u001b[49m\u001b[43m,\u001b[49m\n\u001b[0;32m   1738\u001b[0m \u001b[43m    \u001b[49m\u001b[43mencoding\u001b[49m\u001b[38;5;241;43m=\u001b[39;49m\u001b[38;5;28;43mself\u001b[39;49m\u001b[38;5;241;43m.\u001b[39;49m\u001b[43moptions\u001b[49m\u001b[38;5;241;43m.\u001b[39;49m\u001b[43mget\u001b[49m\u001b[43m(\u001b[49m\u001b[38;5;124;43m\"\u001b[39;49m\u001b[38;5;124;43mencoding\u001b[39;49m\u001b[38;5;124;43m\"\u001b[39;49m\u001b[43m,\u001b[49m\u001b[43m \u001b[49m\u001b[38;5;28;43;01mNone\u001b[39;49;00m\u001b[43m)\u001b[49m\u001b[43m,\u001b[49m\n\u001b[0;32m   1739\u001b[0m \u001b[43m    \u001b[49m\u001b[43mcompression\u001b[49m\u001b[38;5;241;43m=\u001b[39;49m\u001b[38;5;28;43mself\u001b[39;49m\u001b[38;5;241;43m.\u001b[39;49m\u001b[43moptions\u001b[49m\u001b[38;5;241;43m.\u001b[39;49m\u001b[43mget\u001b[49m\u001b[43m(\u001b[49m\u001b[38;5;124;43m\"\u001b[39;49m\u001b[38;5;124;43mcompression\u001b[39;49m\u001b[38;5;124;43m\"\u001b[39;49m\u001b[43m,\u001b[49m\u001b[43m \u001b[49m\u001b[38;5;28;43;01mNone\u001b[39;49;00m\u001b[43m)\u001b[49m\u001b[43m,\u001b[49m\n\u001b[0;32m   1740\u001b[0m \u001b[43m    \u001b[49m\u001b[43mmemory_map\u001b[49m\u001b[38;5;241;43m=\u001b[39;49m\u001b[38;5;28;43mself\u001b[39;49m\u001b[38;5;241;43m.\u001b[39;49m\u001b[43moptions\u001b[49m\u001b[38;5;241;43m.\u001b[39;49m\u001b[43mget\u001b[49m\u001b[43m(\u001b[49m\u001b[38;5;124;43m\"\u001b[39;49m\u001b[38;5;124;43mmemory_map\u001b[39;49m\u001b[38;5;124;43m\"\u001b[39;49m\u001b[43m,\u001b[49m\u001b[43m \u001b[49m\u001b[38;5;28;43;01mFalse\u001b[39;49;00m\u001b[43m)\u001b[49m\u001b[43m,\u001b[49m\n\u001b[0;32m   1741\u001b[0m \u001b[43m    \u001b[49m\u001b[43mis_text\u001b[49m\u001b[38;5;241;43m=\u001b[39;49m\u001b[43mis_text\u001b[49m\u001b[43m,\u001b[49m\n\u001b[0;32m   1742\u001b[0m \u001b[43m    \u001b[49m\u001b[43merrors\u001b[49m\u001b[38;5;241;43m=\u001b[39;49m\u001b[38;5;28;43mself\u001b[39;49m\u001b[38;5;241;43m.\u001b[39;49m\u001b[43moptions\u001b[49m\u001b[38;5;241;43m.\u001b[39;49m\u001b[43mget\u001b[49m\u001b[43m(\u001b[49m\u001b[38;5;124;43m\"\u001b[39;49m\u001b[38;5;124;43mencoding_errors\u001b[39;49m\u001b[38;5;124;43m\"\u001b[39;49m\u001b[43m,\u001b[49m\u001b[43m \u001b[49m\u001b[38;5;124;43m\"\u001b[39;49m\u001b[38;5;124;43mstrict\u001b[39;49m\u001b[38;5;124;43m\"\u001b[39;49m\u001b[43m)\u001b[49m\u001b[43m,\u001b[49m\n\u001b[0;32m   1743\u001b[0m \u001b[43m    \u001b[49m\u001b[43mstorage_options\u001b[49m\u001b[38;5;241;43m=\u001b[39;49m\u001b[38;5;28;43mself\u001b[39;49m\u001b[38;5;241;43m.\u001b[39;49m\u001b[43moptions\u001b[49m\u001b[38;5;241;43m.\u001b[39;49m\u001b[43mget\u001b[49m\u001b[43m(\u001b[49m\u001b[38;5;124;43m\"\u001b[39;49m\u001b[38;5;124;43mstorage_options\u001b[39;49m\u001b[38;5;124;43m\"\u001b[39;49m\u001b[43m,\u001b[49m\u001b[43m \u001b[49m\u001b[38;5;28;43;01mNone\u001b[39;49;00m\u001b[43m)\u001b[49m\u001b[43m,\u001b[49m\n\u001b[0;32m   1744\u001b[0m \u001b[43m\u001b[49m\u001b[43m)\u001b[49m\n\u001b[0;32m   1745\u001b[0m \u001b[38;5;28;01massert\u001b[39;00m \u001b[38;5;28mself\u001b[39m\u001b[38;5;241m.\u001b[39mhandles \u001b[38;5;129;01mis\u001b[39;00m \u001b[38;5;129;01mnot\u001b[39;00m \u001b[38;5;28;01mNone\u001b[39;00m\n\u001b[0;32m   1746\u001b[0m f \u001b[38;5;241m=\u001b[39m \u001b[38;5;28mself\u001b[39m\u001b[38;5;241m.\u001b[39mhandles\u001b[38;5;241m.\u001b[39mhandle\n",
      "File \u001b[1;32m~\\AppData\\Local\\Programs\\Python\\Python310\\lib\\site-packages\\pandas\\io\\common.py:856\u001b[0m, in \u001b[0;36mget_handle\u001b[1;34m(path_or_buf, mode, encoding, compression, memory_map, is_text, errors, storage_options)\u001b[0m\n\u001b[0;32m    851\u001b[0m \u001b[38;5;28;01melif\u001b[39;00m \u001b[38;5;28misinstance\u001b[39m(handle, \u001b[38;5;28mstr\u001b[39m):\n\u001b[0;32m    852\u001b[0m     \u001b[38;5;66;03m# Check whether the filename is to be opened in binary mode.\u001b[39;00m\n\u001b[0;32m    853\u001b[0m     \u001b[38;5;66;03m# Binary mode does not support 'encoding' and 'newline'.\u001b[39;00m\n\u001b[0;32m    854\u001b[0m     \u001b[38;5;28;01mif\u001b[39;00m ioargs\u001b[38;5;241m.\u001b[39mencoding \u001b[38;5;129;01mand\u001b[39;00m \u001b[38;5;124m\"\u001b[39m\u001b[38;5;124mb\u001b[39m\u001b[38;5;124m\"\u001b[39m \u001b[38;5;129;01mnot\u001b[39;00m \u001b[38;5;129;01min\u001b[39;00m ioargs\u001b[38;5;241m.\u001b[39mmode:\n\u001b[0;32m    855\u001b[0m         \u001b[38;5;66;03m# Encoding\u001b[39;00m\n\u001b[1;32m--> 856\u001b[0m         handle \u001b[38;5;241m=\u001b[39m \u001b[38;5;28;43mopen\u001b[39;49m\u001b[43m(\u001b[49m\n\u001b[0;32m    857\u001b[0m \u001b[43m            \u001b[49m\u001b[43mhandle\u001b[49m\u001b[43m,\u001b[49m\n\u001b[0;32m    858\u001b[0m \u001b[43m            \u001b[49m\u001b[43mioargs\u001b[49m\u001b[38;5;241;43m.\u001b[39;49m\u001b[43mmode\u001b[49m\u001b[43m,\u001b[49m\n\u001b[0;32m    859\u001b[0m \u001b[43m            \u001b[49m\u001b[43mencoding\u001b[49m\u001b[38;5;241;43m=\u001b[39;49m\u001b[43mioargs\u001b[49m\u001b[38;5;241;43m.\u001b[39;49m\u001b[43mencoding\u001b[49m\u001b[43m,\u001b[49m\n\u001b[0;32m    860\u001b[0m \u001b[43m            \u001b[49m\u001b[43merrors\u001b[49m\u001b[38;5;241;43m=\u001b[39;49m\u001b[43merrors\u001b[49m\u001b[43m,\u001b[49m\n\u001b[0;32m    861\u001b[0m \u001b[43m            \u001b[49m\u001b[43mnewline\u001b[49m\u001b[38;5;241;43m=\u001b[39;49m\u001b[38;5;124;43m\"\u001b[39;49m\u001b[38;5;124;43m\"\u001b[39;49m\u001b[43m,\u001b[49m\n\u001b[0;32m    862\u001b[0m \u001b[43m        \u001b[49m\u001b[43m)\u001b[49m\n\u001b[0;32m    863\u001b[0m     \u001b[38;5;28;01melse\u001b[39;00m:\n\u001b[0;32m    864\u001b[0m         \u001b[38;5;66;03m# Binary mode\u001b[39;00m\n\u001b[0;32m    865\u001b[0m         handle \u001b[38;5;241m=\u001b[39m \u001b[38;5;28mopen\u001b[39m(handle, ioargs\u001b[38;5;241m.\u001b[39mmode)\n",
      "\u001b[1;31mFileNotFoundError\u001b[0m: [Errno 2] No such file or directory: '/kaggle/input/cricinfo-statsguru-data/Men ODI Player Innings Stats - 21st Century.csv'"
     ]
    }
   ],
   "source": [
    "dataset=pd.read_csv('/kaggle/input/cricinfo-statsguru-data/Men ODI Player Innings Stats - 21st Century.csv')"
   ]
  },
  {
   "cell_type": "code",
   "execution_count": 3,
   "metadata": {
    "execution": {
     "iopub.execute_input": "2022-03-20T15:01:49.967269Z",
     "iopub.status.busy": "2022-03-20T15:01:49.966632Z",
     "iopub.status.idle": "2022-03-20T15:01:49.970473Z",
     "shell.execute_reply": "2022-03-20T15:01:49.970911Z"
    },
    "papermill": {
     "duration": 0.039214,
     "end_time": "2022-03-20T15:01:49.971035",
     "exception": false,
     "start_time": "2022-03-20T15:01:49.931821",
     "status": "completed"
    },
    "tags": []
   },
   "outputs": [
    {
     "data": {
      "text/plain": [
       "Index(['Innings Player', 'Innings Runs Scored', 'Innings Runs Scored Num',\n",
       "       'Innings Minutes Batted', 'Innings Batted Flag', 'Innings Not Out Flag',\n",
       "       'Innings Balls Faced', 'Innings Boundary Fours',\n",
       "       'Innings Boundary Sixes', 'Innings Batting Strike Rate',\n",
       "       'Innings Number', 'Opposition', 'Ground', 'Innings Date', 'Country',\n",
       "       '50's', '100's', 'Innings Runs Scored Buckets', 'Innings Overs Bowled',\n",
       "       'Innings Bowled Flag', 'Innings Maidens Bowled',\n",
       "       'Innings Runs Conceded', 'Innings Wickets Taken', '4 Wickets',\n",
       "       '5 Wickets', '10 Wickets', 'Innings Wickets Taken Buckets',\n",
       "       'Innings Economy Rate'],\n",
       "      dtype='object')"
      ]
     },
     "execution_count": 3,
     "metadata": {},
     "output_type": "execute_result"
    }
   ],
   "source": [
    "dataset.columns"
   ]
  },
  {
   "cell_type": "code",
   "execution_count": 4,
   "metadata": {
    "execution": {
     "iopub.execute_input": "2022-03-20T15:01:50.032636Z",
     "iopub.status.busy": "2022-03-20T15:01:50.032081Z",
     "iopub.status.idle": "2022-03-20T15:01:50.086816Z",
     "shell.execute_reply": "2022-03-20T15:01:50.086232Z"
    },
    "papermill": {
     "duration": 0.086651,
     "end_time": "2022-03-20T15:01:50.086910",
     "exception": false,
     "start_time": "2022-03-20T15:01:50.000259",
     "status": "completed"
    },
    "tags": []
   },
   "outputs": [],
   "source": [
    "batsman=dataset[dataset['Innings Overs Bowled'].isnull()]"
   ]
  },
  {
   "cell_type": "code",
   "execution_count": 5,
   "metadata": {
    "execution": {
     "iopub.execute_input": "2022-03-20T15:01:50.155656Z",
     "iopub.status.busy": "2022-03-20T15:01:50.155000Z",
     "iopub.status.idle": "2022-03-20T15:01:50.181524Z",
     "shell.execute_reply": "2022-03-20T15:01:50.181092Z"
    },
    "papermill": {
     "duration": 0.06535,
     "end_time": "2022-03-20T15:01:50.181621",
     "exception": false,
     "start_time": "2022-03-20T15:01:50.116271",
     "status": "completed"
    },
    "tags": []
   },
   "outputs": [],
   "source": [
    "#removing unnecessary columns\n",
    "drop=['Innings Overs Bowled',\n",
    "       'Innings Bowled Flag', 'Innings Maidens Bowled',\n",
    "       'Innings Runs Conceded', 'Innings Wickets Taken', '4 Wickets',\n",
    "       '5 Wickets', '10 Wickets', 'Innings Wickets Taken Buckets',\n",
    "       'Innings Economy Rate','Innings Runs Scored Num', 'Innings Minutes Batted', 'Innings Batted Flag'\n",
    "     ,'Innings Not Out Flag']\n",
    "batsman=batsman.drop(drop, axis=1)"
   ]
  },
  {
   "cell_type": "code",
   "execution_count": 6,
   "metadata": {
    "execution": {
     "iopub.execute_input": "2022-03-20T15:01:50.246522Z",
     "iopub.status.busy": "2022-03-20T15:01:50.244415Z",
     "iopub.status.idle": "2022-03-20T15:01:50.292930Z",
     "shell.execute_reply": "2022-03-20T15:01:50.292305Z"
    },
    "papermill": {
     "duration": 0.081167,
     "end_time": "2022-03-20T15:01:50.293041",
     "exception": false,
     "start_time": "2022-03-20T15:01:50.211874",
     "status": "completed"
    },
    "tags": []
   },
   "outputs": [],
   "source": [
    "batsman['Innings_Runs_Score']=0\n",
    "batsman=batsman[(batsman['Innings Runs Scored']!='DNB') & (batsman['Innings Runs Scored']!='TDNB')]"
   ]
  },
  {
   "cell_type": "code",
   "execution_count": 7,
   "metadata": {
    "execution": {
     "iopub.execute_input": "2022-03-20T15:01:50.395293Z",
     "iopub.status.busy": "2022-03-20T15:01:50.394307Z",
     "iopub.status.idle": "2022-03-20T15:01:52.409827Z",
     "shell.execute_reply": "2022-03-20T15:01:52.410249Z"
    },
    "papermill": {
     "duration": 2.070576,
     "end_time": "2022-03-20T15:01:52.410384",
     "exception": false,
     "start_time": "2022-03-20T15:01:50.339808",
     "status": "completed"
    },
    "tags": []
   },
   "outputs": [],
   "source": [
    "#writing regular expressions to extract runs scored\n",
    "runs = r'([0-9]*)'\n",
    "index_2=batsman.columns.get_loc('Innings Runs Scored')\n",
    "index_runs=batsman.columns.get_loc('Innings_Runs_Score')\n",
    "for row in range(0,len(batsman)):\n",
    "    run=re.search(runs,batsman.iat[row,index_2]).group()\n",
    "    if run!='':\n",
    "        batsman.iat[row,index_runs]=int(run)"
   ]
  },
  {
   "cell_type": "markdown",
   "metadata": {
    "papermill": {
     "duration": 0.029758,
     "end_time": "2022-03-20T15:01:52.469967",
     "exception": false,
     "start_time": "2022-03-20T15:01:52.440209",
     "status": "completed"
    },
    "tags": []
   },
   "source": [
    "## Manipulating features\n",
    "We will be manipulating features as a part of data cleaning and processing step."
   ]
  },
  {
   "cell_type": "code",
   "execution_count": 8,
   "metadata": {
    "execution": {
     "iopub.execute_input": "2022-03-20T15:01:52.533762Z",
     "iopub.status.busy": "2022-03-20T15:01:52.533222Z",
     "iopub.status.idle": "2022-03-20T15:01:52.537690Z",
     "shell.execute_reply": "2022-03-20T15:01:52.538113Z"
    },
    "papermill": {
     "duration": 0.037653,
     "end_time": "2022-03-20T15:01:52.538240",
     "exception": false,
     "start_time": "2022-03-20T15:01:52.500587",
     "status": "completed"
    },
    "tags": []
   },
   "outputs": [],
   "source": [
    "#number of 4's\n",
    "\n",
    "batsman['Innings_Boundary_Fours']=0"
   ]
  },
  {
   "cell_type": "code",
   "execution_count": 9,
   "metadata": {
    "execution": {
     "iopub.execute_input": "2022-03-20T15:01:52.600831Z",
     "iopub.status.busy": "2022-03-20T15:01:52.600325Z",
     "iopub.status.idle": "2022-03-20T15:01:52.614356Z",
     "shell.execute_reply": "2022-03-20T15:01:52.614745Z"
    },
    "papermill": {
     "duration": 0.046483,
     "end_time": "2022-03-20T15:01:52.614872",
     "exception": false,
     "start_time": "2022-03-20T15:01:52.568389",
     "status": "completed"
    },
    "tags": []
   },
   "outputs": [],
   "source": [
    "batsman['Innings Boundary Fours']= np.where(batsman['Innings Boundary Fours']==' ',\n",
    "                                            0,batsman['Innings Boundary Fours'])"
   ]
  },
  {
   "cell_type": "code",
   "execution_count": 10,
   "metadata": {
    "execution": {
     "iopub.execute_input": "2022-03-20T15:01:52.679962Z",
     "iopub.status.busy": "2022-03-20T15:01:52.679377Z",
     "iopub.status.idle": "2022-03-20T15:01:52.681406Z",
     "shell.execute_reply": "2022-03-20T15:01:52.681843Z"
    },
    "papermill": {
     "duration": 0.036973,
     "end_time": "2022-03-20T15:01:52.681961",
     "exception": false,
     "start_time": "2022-03-20T15:01:52.644988",
     "status": "completed"
    },
    "tags": []
   },
   "outputs": [],
   "source": [
    "index_3=batsman.columns.get_loc('Innings Boundary Fours')\n",
    "index_fours=batsman.columns.get_loc('Innings_Boundary_Fours')"
   ]
  },
  {
   "cell_type": "code",
   "execution_count": 11,
   "metadata": {
    "execution": {
     "iopub.execute_input": "2022-03-20T15:01:52.749934Z",
     "iopub.status.busy": "2022-03-20T15:01:52.749440Z",
     "iopub.status.idle": "2022-03-20T15:01:55.189369Z",
     "shell.execute_reply": "2022-03-20T15:01:55.188786Z"
    },
    "papermill": {
     "duration": 2.477786,
     "end_time": "2022-03-20T15:01:55.189477",
     "exception": false,
     "start_time": "2022-03-20T15:01:52.711691",
     "status": "completed"
    },
    "tags": []
   },
   "outputs": [],
   "source": [
    "for row in range(0,len(batsman)):\n",
    "    fours= batsman.iat[row,index_3]\n",
    "    if fours!='-':\n",
    "        batsman.iat[row,index_fours]=int(fours)\n",
    "    "
   ]
  },
  {
   "cell_type": "code",
   "execution_count": 12,
   "metadata": {
    "execution": {
     "iopub.execute_input": "2022-03-20T15:01:55.283365Z",
     "iopub.status.busy": "2022-03-20T15:01:55.282515Z",
     "iopub.status.idle": "2022-03-20T15:01:57.075213Z",
     "shell.execute_reply": "2022-03-20T15:01:57.074782Z"
    },
    "papermill": {
     "duration": 1.839799,
     "end_time": "2022-03-20T15:01:57.075320",
     "exception": false,
     "start_time": "2022-03-20T15:01:55.235521",
     "status": "completed"
    },
    "tags": []
   },
   "outputs": [],
   "source": [
    "#number of 6's\n",
    "\n",
    "batsman['Innings_Boundary_Sixes']=0\n",
    "batsman['Innings Boundary Sixes']=np.where(batsman['Innings Boundary Sixes']==' ',\n",
    "                                           0,batsman['Innings Boundary Sixes'])\n",
    "index_3=batsman.columns.get_loc('Innings Boundary Sixes')\n",
    "index_sixes=batsman.columns.get_loc('Innings_Boundary_Sixes')\n",
    "\n",
    "for row in range(0,len(batsman)):\n",
    "    sixes= batsman.iat[row,index_3]\n",
    "    if sixes!='-':\n",
    "        batsman.iat[row,index_sixes]=int(sixes)"
   ]
  },
  {
   "cell_type": "code",
   "execution_count": 13,
   "metadata": {
    "execution": {
     "iopub.execute_input": "2022-03-20T15:01:57.154023Z",
     "iopub.status.busy": "2022-03-20T15:01:57.149188Z",
     "iopub.status.idle": "2022-03-20T15:02:00.033258Z",
     "shell.execute_reply": "2022-03-20T15:02:00.033630Z"
    },
    "papermill": {
     "duration": 2.927486,
     "end_time": "2022-03-20T15:02:00.033786",
     "exception": false,
     "start_time": "2022-03-20T15:01:57.106300",
     "status": "completed"
    },
    "tags": []
   },
   "outputs": [],
   "source": [
    "# current innings strike rate\n",
    "batsman['Innings_Batting_Strike_Rate']=0.0\n",
    "index_3=batsman.columns.get_loc('Innings Batting Strike Rate')\n",
    "index_sr=batsman.columns.get_loc('Innings_Batting_Strike_Rate')\n",
    "\n",
    "for row in range(0,len(batsman)):\n",
    "    sr= batsman.iat[row,index_3]\n",
    "    if sr!='-':\n",
    "        batsman.iat[row,index_sr]=float(sr)"
   ]
  },
  {
   "cell_type": "code",
   "execution_count": 14,
   "metadata": {
    "execution": {
     "iopub.execute_input": "2022-03-20T15:02:00.097398Z",
     "iopub.status.busy": "2022-03-20T15:02:00.096705Z",
     "iopub.status.idle": "2022-03-20T15:02:03.010034Z",
     "shell.execute_reply": "2022-03-20T15:02:03.010432Z"
    },
    "papermill": {
     "duration": 2.946612,
     "end_time": "2022-03-20T15:02:03.010558",
     "exception": false,
     "start_time": "2022-03-20T15:02:00.063946",
     "status": "completed"
    },
    "tags": []
   },
   "outputs": [],
   "source": [
    "# Innings played\n",
    "\n",
    "batsman['Innings_Number']=0\n",
    "index_3=batsman.columns.get_loc('Innings Number')\n",
    "index_in=batsman.columns.get_loc('Innings_Number')\n",
    "\n",
    "for row in range(0,len(batsman)):\n",
    "    inn= batsman.iat[row,index_3]\n",
    "    if inn!='-':\n",
    "        batsman.iat[row,index_in]=int(inn)"
   ]
  },
  {
   "cell_type": "code",
   "execution_count": 15,
   "metadata": {
    "execution": {
     "iopub.execute_input": "2022-03-20T15:02:03.077285Z",
     "iopub.status.busy": "2022-03-20T15:02:03.076824Z",
     "iopub.status.idle": "2022-03-20T15:02:06.002824Z",
     "shell.execute_reply": "2022-03-20T15:02:06.003207Z"
    },
    "papermill": {
     "duration": 2.961753,
     "end_time": "2022-03-20T15:02:06.003332",
     "exception": false,
     "start_time": "2022-03-20T15:02:03.041579",
     "status": "completed"
    },
    "tags": []
   },
   "outputs": [],
   "source": [
    "#Innings Balls Faced\n",
    "batsman['Innings_Balls_Faced']=0\n",
    "index_3=batsman.columns.get_loc('Innings Balls Faced')\n",
    "index_in=batsman.columns.get_loc('Innings_Balls_Faced')\n",
    "\n",
    "for row in range(0,len(batsman)):\n",
    "    inn= batsman.iat[row,index_3]\n",
    "    if inn!='-':\n",
    "        batsman.iat[row,index_in]=int(inn)"
   ]
  },
  {
   "cell_type": "code",
   "execution_count": 16,
   "metadata": {
    "execution": {
     "iopub.execute_input": "2022-03-20T15:02:06.068090Z",
     "iopub.status.busy": "2022-03-20T15:02:06.067405Z",
     "iopub.status.idle": "2022-03-20T15:02:09.235919Z",
     "shell.execute_reply": "2022-03-20T15:02:09.236410Z"
    },
    "papermill": {
     "duration": 3.202692,
     "end_time": "2022-03-20T15:02:09.236530",
     "exception": false,
     "start_time": "2022-03-20T15:02:06.033838",
     "status": "completed"
    },
    "tags": []
   },
   "outputs": [],
   "source": [
    "#Extracting names of Opposition teams\n",
    "\n",
    "index_3=batsman.columns.get_loc('Opposition')\n",
    "opp = r'[^v][A-Z]+[a-z]*[\" \"]*[A-Z]*[a-z]*'\n",
    "for row in range(0,len(batsman)):\n",
    "    opps=re.search(opp,batsman.iat[row,index_3]).group()\n",
    "    batsman.iat[row,index_3]=opps"
   ]
  },
  {
   "cell_type": "code",
   "execution_count": 17,
   "metadata": {
    "execution": {
     "iopub.execute_input": "2022-03-20T15:02:09.302111Z",
     "iopub.status.busy": "2022-03-20T15:02:09.301366Z",
     "iopub.status.idle": "2022-03-20T15:02:12.500371Z",
     "shell.execute_reply": "2022-03-20T15:02:12.499940Z"
    },
    "papermill": {
     "duration": 3.232588,
     "end_time": "2022-03-20T15:02:12.500465",
     "exception": false,
     "start_time": "2022-03-20T15:02:09.267877",
     "status": "completed"
    },
    "tags": []
   },
   "outputs": [],
   "source": [
    "#Extracting year of match from date feature\n",
    "\n",
    "batsman['Year']=0\n",
    "years=r'([0-9]{4})'\n",
    "index_3=batsman.columns.get_loc('Innings Date')\n",
    "index_year=batsman.columns.get_loc('Year')\n",
    "\n",
    "for row in range(0,len(batsman)):\n",
    "    year=re.search(years,batsman.iat[row,index_3]).group()\n",
    "    batsman.iat[row,index_year]=int(year)"
   ]
  },
  {
   "cell_type": "code",
   "execution_count": 18,
   "metadata": {
    "execution": {
     "iopub.execute_input": "2022-03-20T15:02:12.566728Z",
     "iopub.status.busy": "2022-03-20T15:02:12.566192Z",
     "iopub.status.idle": "2022-03-20T15:02:14.610509Z",
     "shell.execute_reply": "2022-03-20T15:02:14.610929Z"
    },
    "papermill": {
     "duration": 2.078585,
     "end_time": "2022-03-20T15:02:14.611056",
     "exception": false,
     "start_time": "2022-03-20T15:02:12.532471",
     "status": "completed"
    },
    "tags": []
   },
   "outputs": [],
   "source": [
    "#Extracting month in which match was played from date feature\n",
    "\n",
    "batsman['Month']=0\n",
    "batsman['Innings Date']=pd.to_datetime(batsman['Innings Date'])\n",
    "index_month=batsman.columns.get_loc('Month')\n",
    "\n",
    "for row in range(0,len(batsman)):\n",
    "    batsman.iat[row,index_month]=int(batsman.iat[row, index_3].month)"
   ]
  },
  {
   "cell_type": "code",
   "execution_count": 19,
   "metadata": {
    "execution": {
     "iopub.execute_input": "2022-03-20T15:02:14.691427Z",
     "iopub.status.busy": "2022-03-20T15:02:14.690856Z",
     "iopub.status.idle": "2022-03-20T15:02:17.261039Z",
     "shell.execute_reply": "2022-03-20T15:02:17.261960Z"
    },
    "papermill": {
     "duration": 2.620015,
     "end_time": "2022-03-20T15:02:17.262208",
     "exception": false,
     "start_time": "2022-03-20T15:02:14.642193",
     "status": "completed"
    },
    "tags": []
   },
   "outputs": [],
   "source": [
    "#Extracting day name from date feature\n",
    "\n",
    "batsman['Day']=''\n",
    "index_day=batsman.columns.get_loc('Day')\n",
    "\n",
    "import calendar\n",
    "for row in range(0,len(batsman)):\n",
    "    batsman.iat[row,index_day]=calendar.day_name[batsman.iat[row, index_3].weekday()]"
   ]
  },
  {
   "cell_type": "code",
   "execution_count": 20,
   "metadata": {
    "execution": {
     "iopub.execute_input": "2022-03-20T15:02:17.363463Z",
     "iopub.status.busy": "2022-03-20T15:02:17.362779Z",
     "iopub.status.idle": "2022-03-20T15:02:22.480951Z",
     "shell.execute_reply": "2022-03-20T15:02:22.480493Z"
    },
    "papermill": {
     "duration": 5.171513,
     "end_time": "2022-03-20T15:02:22.481046",
     "exception": false,
     "start_time": "2022-03-20T15:02:17.309533",
     "status": "completed"
    },
    "tags": []
   },
   "outputs": [],
   "source": [
    "#number of 50s and 100s scored\n",
    "\n",
    "batsman['50s']=0\n",
    "batsman['100s']=0\n",
    "\n",
    "fifty=batsman.columns.get_loc('50s')\n",
    "hundred=batsman.columns.get_loc('100s')\n",
    "\n",
    "index_fifty=batsman.columns.get_loc(\"50's\")\n",
    "index_hundred=batsman.columns.get_loc(\"100's\")\n",
    "\n",
    "for row in range(0,len(batsman)):\n",
    "    fifties= batsman.iat[row,index_fifty]\n",
    "    hundreds=batsman.iat[row,index_hundred]\n",
    "    if fifties!='-':\n",
    "        batsman.iat[row,fifty]=int(fifties)\n",
    "    if hundreds!='-':\n",
    "        batsman.iat[row,hundred]=int(hundreds)"
   ]
  },
  {
   "cell_type": "code",
   "execution_count": 21,
   "metadata": {
    "execution": {
     "iopub.execute_input": "2022-03-20T15:02:22.546810Z",
     "iopub.status.busy": "2022-03-20T15:02:22.546018Z",
     "iopub.status.idle": "2022-03-20T15:02:24.450615Z",
     "shell.execute_reply": "2022-03-20T15:02:24.451050Z"
    },
    "papermill": {
     "duration": 1.938974,
     "end_time": "2022-03-20T15:02:24.451167",
     "exception": false,
     "start_time": "2022-03-20T15:02:22.512193",
     "status": "completed"
    },
    "tags": []
   },
   "outputs": [],
   "source": [
    "#Numbers of zeroes scored in innings is necessary for further feature engineering.\n",
    "#Formula used for creating this feature:\n",
    "# Number of zeroes = 0 + Number of innings played (if player has scored 0 runs in total)\n",
    "\n",
    "batsman['0s']=0\n",
    "index_0=batsman.columns.get_loc('0s')\n",
    "index_runs=batsman.columns.get_loc('Innings_Runs_Score')\n",
    "index_inn=batsman.columns.get_loc('Innings_Number')\n",
    "zeros=0\n",
    "\n",
    "for row in range(len(batsman)):\n",
    "    if batsman.iat[row,index_runs]==0:\n",
    "        zeros=0+batsman.iat[row,index_inn]\n",
    "    batsman.iat[row,index_0]=zeros"
   ]
  },
  {
   "cell_type": "code",
   "execution_count": 22,
   "metadata": {
    "execution": {
     "iopub.execute_input": "2022-03-20T15:02:24.517492Z",
     "iopub.status.busy": "2022-03-20T15:02:24.516755Z",
     "iopub.status.idle": "2022-03-20T15:02:24.566163Z",
     "shell.execute_reply": "2022-03-20T15:02:24.565739Z"
    },
    "papermill": {
     "duration": 0.083248,
     "end_time": "2022-03-20T15:02:24.566261",
     "exception": false,
     "start_time": "2022-03-20T15:02:24.483013",
     "status": "completed"
    },
    "tags": []
   },
   "outputs": [],
   "source": [
    "drop=['Innings Runs Scored', 'Innings Balls Faced','Innings Boundary Fours',\n",
    "       'Innings Boundary Sixes', 'Innings Batting Strike Rate',\n",
    "       'Innings Number','Innings Date', \"50's\", \"100's\"]\n",
    "batsman=batsman.drop(drop, axis=1)"
   ]
  },
  {
   "cell_type": "code",
   "execution_count": 23,
   "metadata": {
    "execution": {
     "iopub.execute_input": "2022-03-20T15:02:24.667833Z",
     "iopub.status.busy": "2022-03-20T15:02:24.642016Z",
     "iopub.status.idle": "2022-03-20T15:02:27.217358Z",
     "shell.execute_reply": "2022-03-20T15:02:27.217857Z"
    },
    "papermill": {
     "duration": 2.619671,
     "end_time": "2022-03-20T15:02:27.217990",
     "exception": false,
     "start_time": "2022-03-20T15:02:24.598319",
     "status": "completed"
    },
    "tags": []
   },
   "outputs": [],
   "source": [
    "#creating batting average\n",
    "\n",
    "batsman['Batting_Average']=0.0\n",
    "index_ba=batsman.columns.get_loc(\"Batting_Average\")\n",
    "index_in=batsman.columns.get_loc(\"Innings_Number\")\n",
    "index_inruns=batsman.columns.get_loc(\"Innings_Runs_Score\")\n",
    "\n",
    "for row in range(len(batsman)):\n",
    "    inumber=batsman.iat[row,index_in]\n",
    "    inruns=batsman.iat[row,index_inruns]\n",
    "    batsman.iat[row,index_ba]=inruns/inumber"
   ]
  },
  {
   "cell_type": "markdown",
   "metadata": {
    "papermill": {
     "duration": 0.031603,
     "end_time": "2022-03-20T15:02:27.282092",
     "exception": false,
     "start_time": "2022-03-20T15:02:27.250489",
     "status": "completed"
    },
    "tags": []
   },
   "source": [
    "# Data Augmentation\n",
    "Here, we are using other dataset to extract batting style feature in order to enhance our current dataset"
   ]
  },
  {
   "cell_type": "code",
   "execution_count": 24,
   "metadata": {
    "execution": {
     "iopub.execute_input": "2022-03-20T15:02:27.348424Z",
     "iopub.status.busy": "2022-03-20T15:02:27.347979Z",
     "iopub.status.idle": "2022-03-20T15:02:27.411596Z",
     "shell.execute_reply": "2022-03-20T15:02:27.412055Z"
    },
    "papermill": {
     "duration": 0.098312,
     "end_time": "2022-03-20T15:02:27.412175",
     "exception": false,
     "start_time": "2022-03-20T15:02:27.313863",
     "status": "completed"
    },
    "tags": []
   },
   "outputs": [],
   "source": [
    "dataset=pd.read_csv('/kaggle/input/project/personal_male.csv')"
   ]
  },
  {
   "cell_type": "code",
   "execution_count": 25,
   "metadata": {
    "execution": {
     "iopub.execute_input": "2022-03-20T15:02:27.489801Z",
     "iopub.status.busy": "2022-03-20T15:02:27.489249Z",
     "iopub.status.idle": "2022-03-20T15:02:27.580558Z",
     "shell.execute_reply": "2022-03-20T15:02:27.581098Z"
    },
    "papermill": {
     "duration": 0.137382,
     "end_time": "2022-03-20T15:02:27.581217",
     "exception": false,
     "start_time": "2022-03-20T15:02:27.443835",
     "status": "completed"
    },
    "tags": []
   },
   "outputs": [],
   "source": [
    "#function to extract Initials of players' name.\n",
    "#We are doing this in order to match it with the names column of our original dataset.\n",
    "\n",
    "def name(s): \n",
    "  \n",
    "    # split the string into a list  \n",
    "    l = s.split() \n",
    "    new = \"\" \n",
    "  \n",
    "    # traverse in the list  \n",
    "    for i in range(len(l)-1): \n",
    "        s = l[i] \n",
    "          \n",
    "        # adds the capital first character  \n",
    "        new += (s[0].upper()) \n",
    "          \n",
    "    # l[-1] gives last item of list l. We \n",
    "    # use title to print first character in \n",
    "    # capital. \n",
    "    new=new+\" \"+l[-1].title() \n",
    "      \n",
    "    return new  \n",
    "      \n",
    "# Driver code             \n",
    "index_name=dataset.columns.get_loc(\"fullName\")\n",
    "dataset['New_name']=\"\"\n",
    "index_new=dataset.columns.get_loc(\"New_name\")\n",
    "\n",
    "for row in range(len(dataset)):\n",
    "    cname=name(dataset.iat[row,index_name])\n",
    "    dataset.iat[row,index_new]=cname"
   ]
  },
  {
   "cell_type": "code",
   "execution_count": 26,
   "metadata": {
    "execution": {
     "iopub.execute_input": "2022-03-20T15:02:27.653750Z",
     "iopub.status.busy": "2022-03-20T15:02:27.653197Z",
     "iopub.status.idle": "2022-03-20T15:02:27.655773Z",
     "shell.execute_reply": "2022-03-20T15:02:27.656195Z"
    },
    "papermill": {
     "duration": 0.042162,
     "end_time": "2022-03-20T15:02:27.656312",
     "exception": false,
     "start_time": "2022-03-20T15:02:27.614150",
     "status": "completed"
    },
    "tags": []
   },
   "outputs": [],
   "source": [
    "batsman['Name']=batsman['Innings Player']\n",
    "dataset['Name']=dataset['New_name']"
   ]
  },
  {
   "cell_type": "code",
   "execution_count": 27,
   "metadata": {
    "execution": {
     "iopub.execute_input": "2022-03-20T15:02:27.727976Z",
     "iopub.status.busy": "2022-03-20T15:02:27.727458Z",
     "iopub.status.idle": "2022-03-20T15:02:27.733890Z",
     "shell.execute_reply": "2022-03-20T15:02:27.733424Z"
    },
    "papermill": {
     "duration": 0.045159,
     "end_time": "2022-03-20T15:02:27.733991",
     "exception": false,
     "start_time": "2022-03-20T15:02:27.688832",
     "status": "completed"
    },
    "tags": []
   },
   "outputs": [],
   "source": [
    "drop=['name', 'fullName', 'dob', 'country', 'birthPlace', 'nationalTeam',\n",
    "       'teams','bowlingStyle', 'New_name']\n",
    "dataset.drop(drop, axis=1,inplace=True)"
   ]
  },
  {
   "cell_type": "code",
   "execution_count": 28,
   "metadata": {
    "execution": {
     "iopub.execute_input": "2022-03-20T15:02:27.821791Z",
     "iopub.status.busy": "2022-03-20T15:02:27.820692Z",
     "iopub.status.idle": "2022-03-20T15:02:27.890580Z",
     "shell.execute_reply": "2022-03-20T15:02:27.890068Z"
    },
    "papermill": {
     "duration": 0.124966,
     "end_time": "2022-03-20T15:02:27.890701",
     "exception": false,
     "start_time": "2022-03-20T15:02:27.765735",
     "status": "completed"
    },
    "tags": []
   },
   "outputs": [],
   "source": [
    "#merging with original dataset\n",
    "batsman=pd.merge(batsman,dataset,on='Name', how='inner')"
   ]
  },
  {
   "cell_type": "markdown",
   "metadata": {
    "papermill": {
     "duration": 0.031599,
     "end_time": "2022-03-20T15:02:27.955576",
     "exception": false,
     "start_time": "2022-03-20T15:02:27.923977",
     "status": "completed"
    },
    "tags": []
   },
   "source": [
    "# Attribute Derivation\n",
    "Here, we are deriving new attributes to further enhance the dataset"
   ]
  },
  {
   "cell_type": "markdown",
   "metadata": {
    "papermill": {
     "duration": 0.031707,
     "end_time": "2022-03-20T15:02:28.020297",
     "exception": false,
     "start_time": "2022-03-20T15:02:27.988590",
     "status": "completed"
    },
    "tags": []
   },
   "source": [
    "## Consistency\n",
    "This attribute describes how experienced the player is and how consistent he has been throughout\n",
    "his career. All the traditional attributes used in this formula are calculated over the entire career of\n",
    "the player. \n",
    "\n",
    "**Consistency = 0.4262 x average + 0.2566 x no. of innings + 0.1510 x SR + 0.0787 x Centuries + 0.0556 x Fifties – 0.0328 x Zeros**\n"
   ]
  },
  {
   "cell_type": "code",
   "execution_count": 29,
   "metadata": {
    "execution": {
     "iopub.execute_input": "2022-03-20T15:02:28.098192Z",
     "iopub.status.busy": "2022-03-20T15:02:28.092629Z",
     "iopub.status.idle": "2022-03-20T15:02:28.298327Z",
     "shell.execute_reply": "2022-03-20T15:02:28.297708Z"
    },
    "papermill": {
     "duration": 0.245888,
     "end_time": "2022-03-20T15:02:28.298427",
     "exception": false,
     "start_time": "2022-03-20T15:02:28.052539",
     "status": "completed"
    },
    "tags": []
   },
   "outputs": [
    {
     "name": "stderr",
     "output_type": "stream",
     "text": [
      "/opt/conda/lib/python3.7/site-packages/ipykernel_launcher.py:18: RuntimeWarning: invalid value encountered in long_scalars\n"
     ]
    }
   ],
   "source": [
    "def attribute(df,col_name):\n",
    "    df['Average']=0.0\n",
    "    index_ba=df.columns.get_loc(\"Average\")\n",
    "    index_in=df.columns.get_loc(\"Innings_Number\")\n",
    "    index_inruns=df.columns.get_loc(\"Innings_Runs_Score\")\n",
    "    for row in range(len(df)):\n",
    "        inumber=df.iat[row,index_in]\n",
    "        inruns=df.iat[row,index_inruns]\n",
    "        df.iat[row,index_ba]=inruns/inumber\n",
    "\n",
    "    df['Strike_rate']=0.0\n",
    "    index_ba=df.columns.get_loc(\"Strike_rate\")\n",
    "    index_in=df.columns.get_loc(\"Innings_Balls_Faced\")\n",
    "    index_inruns=df.columns.get_loc(\"Innings_Runs_Score\")\n",
    "    for row in range(len(df)):\n",
    "        inumber=df.iat[row,index_in]\n",
    "        inruns=df.iat[row,index_inruns]\n",
    "        df.iat[row,index_ba]=(inruns/inumber)*100  \n",
    "     \n",
    "    index_new=df.columns.get_loc(col_name)\n",
    "    index_sr=df.columns.get_loc(\"Strike_rate\")\n",
    "    index_av=df.columns.get_loc(\"Average\")\n",
    "    index_in=df.columns.get_loc(\"Innings_Number\")\n",
    "    index_100=df.columns.get_loc(\"100s\")\n",
    "    index_50=df.columns.get_loc('50s')\n",
    "    index_0=df.columns.get_loc('0s')\n",
    "\n",
    "    for row in range(len(df)):\n",
    "        f=0.4262*(df.iat[row,index_av])\n",
    "        f=f+0.2566*(df.iat[row,index_in])\n",
    "        f+=0.1510*(df.iat[row,index_sr])\n",
    "        f+=0.0787*(df.iat[row,index_100])\n",
    "        f+=0.0556*(df.iat[row,index_50])\n",
    "        f=f-(0.0328*(df.iat[row,index_0]))\n",
    "        df.iat[row,index_new]=f\n",
    "    \n",
    "    return(df)\n",
    "    \n",
    "    \n",
    "    \n",
    "g=batsman.groupby('Innings Player')\n",
    "df=g.sum()\n",
    "df['consistency']=0.0\n",
    "df=attribute(df,'consistency')\n",
    "df['Average_Career']=df['Average']\n",
    "df['Strike_rate_Career']=df['Strike_rate']\n",
    "drop=['Innings_Runs_Score','Innings_Boundary_Fours',\n",
    "       'Innings_Boundary_Sixes', 'Innings_Batting_Strike_Rate',\n",
    "       'Innings_Number', 'Innings_Balls_Faced', 'Year', 'Month', '50s', '100s',\n",
    "       '0s', 'Batting_Average','Average','Strike_rate']\n",
    "df.drop(drop,axis=1,inplace=True)\n",
    "batsman=pd.merge(batsman,df,on='Innings Player', how='inner')"
   ]
  },
  {
   "cell_type": "markdown",
   "metadata": {
    "papermill": {
     "duration": 0.032488,
     "end_time": "2022-03-20T15:02:28.363435",
     "exception": false,
     "start_time": "2022-03-20T15:02:28.330947",
     "status": "completed"
    },
    "tags": []
   },
   "source": [
    "## Form\n",
    "Form of a player describes his performance over last one year. All the traditional attributes used in\n",
    "this formula are calculated over the matches played by the player in last 12 months from the day of\n",
    "the match. \n",
    "\n",
    "**Form = 0.4262 x average + 0.2566 x no. of innings + 0.1510 x SR + 0.0787 x Centuries +\n",
    "0.0556 x Fifties – 0.0328 x Zeros**"
   ]
  },
  {
   "cell_type": "code",
   "execution_count": 30,
   "metadata": {
    "execution": {
     "iopub.execute_input": "2022-03-20T15:02:28.439345Z",
     "iopub.status.busy": "2022-03-20T15:02:28.438816Z",
     "iopub.status.idle": "2022-03-20T15:02:28.940256Z",
     "shell.execute_reply": "2022-03-20T15:02:28.939788Z"
    },
    "papermill": {
     "duration": 0.54362,
     "end_time": "2022-03-20T15:02:28.940351",
     "exception": false,
     "start_time": "2022-03-20T15:02:28.396731",
     "status": "completed"
    },
    "tags": []
   },
   "outputs": [
    {
     "name": "stderr",
     "output_type": "stream",
     "text": [
      "/opt/conda/lib/python3.7/site-packages/ipykernel_launcher.py:18: RuntimeWarning: invalid value encountered in long_scalars\n"
     ]
    }
   ],
   "source": [
    "def attribute(df,col_name):\n",
    "    df['Average']=0.0\n",
    "    index_ba=df.columns.get_loc(\"Average\")\n",
    "    index_in=df.columns.get_loc(\"Innings_Number\")\n",
    "    index_inruns=df.columns.get_loc(\"Innings_Runs_Score\")\n",
    "    for row in range(len(df)):\n",
    "        inumber=df.iat[row,index_in]\n",
    "        inruns=df.iat[row,index_inruns]\n",
    "        df.iat[row,index_ba]=inruns/inumber\n",
    "\n",
    "    df['Strike_rate']=0.0\n",
    "    index_ba=df.columns.get_loc(\"Strike_rate\")\n",
    "    index_in=df.columns.get_loc(\"Innings_Balls_Faced\")\n",
    "    index_inruns=df.columns.get_loc(\"Innings_Runs_Score\")\n",
    "    for row in range(len(df)):\n",
    "        inumber=df.iat[row,index_in]\n",
    "        inruns=df.iat[row,index_inruns]\n",
    "        df.iat[row,index_ba]=(inruns/inumber)*100  \n",
    "     \n",
    "    index_new=df.columns.get_loc(col_name)\n",
    "    index_sr=df.columns.get_loc(\"Strike_rate\")\n",
    "    index_av=df.columns.get_loc(\"Average\")\n",
    "    index_in=df.columns.get_loc(\"Innings_Number\")\n",
    "    index_100=df.columns.get_loc(\"100s\")\n",
    "    index_50=df.columns.get_loc('50s')\n",
    "    index_0=df.columns.get_loc('0s')\n",
    "\n",
    "    for row in range(len(df)):\n",
    "        f=0.4262*(df.iat[row,index_av])\n",
    "        f=f+0.2566*(df.iat[row,index_in])\n",
    "        f+=0.1510*(df.iat[row,index_sr])\n",
    "        f+=0.0787*(df.iat[row,index_100])\n",
    "        f+=0.0556*(df.iat[row,index_50])\n",
    "        f=f-(0.0328*(df.iat[row,index_0]))\n",
    "        df.iat[row,index_new]=f\n",
    "    \n",
    "    return(df)\n",
    "    \n",
    "\n",
    "\n",
    "g=batsman.groupby(['Innings Player','Year'])\n",
    "df=g.sum()\n",
    "df['form']=0.0\n",
    "df=attribute(df,'form')\n",
    "df['Average_Yearly']=df['Average']\n",
    "df['Strike_rate_Yearly']=df['Strike_rate']\n",
    "drop=['Innings_Runs_Score','Innings_Boundary_Fours',\n",
    "       'Innings_Boundary_Sixes', 'Innings_Batting_Strike_Rate',\n",
    "       'Innings_Number', 'Innings_Balls_Faced', 'Month', '50s', '100s',\n",
    "       '0s', 'Batting_Average','consistency','Average_Career','Strike_rate_Career','Average','Strike_rate']\n",
    "df.drop(drop,axis=1,inplace=True)\n",
    "on=['Innings Player','Year']\n",
    "batsman=pd.merge(batsman,df,on=on, how='inner')"
   ]
  },
  {
   "cell_type": "markdown",
   "metadata": {
    "papermill": {
     "duration": 0.033107,
     "end_time": "2022-03-20T15:02:29.006845",
     "exception": false,
     "start_time": "2022-03-20T15:02:28.973738",
     "status": "completed"
    },
    "tags": []
   },
   "source": [
    "## Opposition\n",
    "Opposition describes a player’s performance against a particular team. All the traditional attributes\n",
    "used in this formula are calculated over all the matches played by the player against the opposition\n",
    "team in his entire career till the day of the match. \n",
    "\n",
    "**Opposition = 0.4262 x average + 0.2566 x no. of innings + 0.1510 x SR + 0.0787 x Centuries +\n",
    "0.0556 x Fifties – 0.0328 x Zeros** "
   ]
  },
  {
   "cell_type": "code",
   "execution_count": 31,
   "metadata": {
    "execution": {
     "iopub.execute_input": "2022-03-20T15:02:29.081491Z",
     "iopub.status.busy": "2022-03-20T15:02:29.080958Z",
     "iopub.status.idle": "2022-03-20T15:02:29.788048Z",
     "shell.execute_reply": "2022-03-20T15:02:29.788458Z"
    },
    "papermill": {
     "duration": 0.748806,
     "end_time": "2022-03-20T15:02:29.788576",
     "exception": false,
     "start_time": "2022-03-20T15:02:29.039770",
     "status": "completed"
    },
    "tags": []
   },
   "outputs": [
    {
     "name": "stderr",
     "output_type": "stream",
     "text": [
      "/opt/conda/lib/python3.7/site-packages/ipykernel_launcher.py:18: RuntimeWarning: invalid value encountered in long_scalars\n"
     ]
    }
   ],
   "source": [
    "def attribute(df,col_name):\n",
    "    df['Average']=0.0\n",
    "    index_ba=df.columns.get_loc(\"Average\")\n",
    "    index_in=df.columns.get_loc(\"Innings_Number\")\n",
    "    index_inruns=df.columns.get_loc(\"Innings_Runs_Score\")\n",
    "    for row in range(len(df)):\n",
    "        inumber=df.iat[row,index_in]\n",
    "        inruns=df.iat[row,index_inruns]\n",
    "        df.iat[row,index_ba]=inruns/inumber\n",
    "\n",
    "    df['Strike_rate']=0.0\n",
    "    index_ba=df.columns.get_loc(\"Strike_rate\")\n",
    "    index_in=df.columns.get_loc(\"Innings_Balls_Faced\")\n",
    "    index_inruns=df.columns.get_loc(\"Innings_Runs_Score\")\n",
    "    for row in range(len(df)):\n",
    "        inumber=df.iat[row,index_in]\n",
    "        inruns=df.iat[row,index_inruns]\n",
    "        df.iat[row,index_ba]=(inruns/inumber)*100  \n",
    "     \n",
    "    index_new=df.columns.get_loc(col_name)\n",
    "    index_sr=df.columns.get_loc(\"Strike_rate\")\n",
    "    index_av=df.columns.get_loc(\"Average\")\n",
    "    index_in=df.columns.get_loc(\"Innings_Number\")\n",
    "    index_100=df.columns.get_loc(\"100s\")\n",
    "    index_50=df.columns.get_loc('50s')\n",
    "    index_0=df.columns.get_loc('0s')\n",
    "\n",
    "    for row in range(len(df)):\n",
    "        f=0.4262*(df.iat[row,index_av])\n",
    "        f=f+0.2566*(df.iat[row,index_in])\n",
    "        f+=0.1510*(df.iat[row,index_sr])\n",
    "        f+=0.0787*(df.iat[row,index_100])\n",
    "        f+=0.0556*(df.iat[row,index_50])\n",
    "        f=f-(0.0328*(df.iat[row,index_0]))\n",
    "        df.iat[row,index_new]=f\n",
    "    \n",
    "    return(df)\n",
    "    \n",
    "\n",
    "\n",
    "g=batsman.groupby(['Innings Player','Opposition'])\n",
    "df=g.sum()\n",
    "df['opposition']=0.0\n",
    "df=attribute(df,'opposition')\n",
    "df['Average_Opposition']=df['Average']\n",
    "df['Strike_rate_Opposition']=df['Strike_rate']\n",
    "drop=['Innings_Runs_Score','Innings_Boundary_Fours',\n",
    "       'Innings_Boundary_Sixes', 'Innings_Batting_Strike_Rate',\n",
    "       'Innings_Number', 'Innings_Balls_Faced', 'Year', 'Month', '50s', '100s',\n",
    "       '0s', 'Batting_Average','consistency', 'form','Average_Career','Strike_rate_Career','Average_Yearly',\n",
    "     'Strike_rate_Yearly','Average','Strike_rate']\n",
    "df.drop(drop,axis=1,inplace=True)\n",
    "on=['Innings Player','Opposition']\n",
    "batsman=pd.merge(batsman,df,on=on, how='inner')"
   ]
  },
  {
   "cell_type": "markdown",
   "metadata": {
    "papermill": {
     "duration": 0.033308,
     "end_time": "2022-03-20T15:02:29.855555",
     "exception": false,
     "start_time": "2022-03-20T15:02:29.822247",
     "status": "completed"
    },
    "tags": []
   },
   "source": [
    "## Venue\n",
    "Venue describes a player’s performance at a particular venue. All the traditional attributes used in\n",
    "this formula are calculated over all the matches played by the player at the venue in his entire\n",
    "career till the day of the match. \n",
    "\n",
    "**Venue = 0.4262 x average + 0.2566 x no. of innings + 0.1510 x SR + 0.0787 x Centuries +\n",
    "0.0556 x Fifties + 0.0328 x HS** "
   ]
  },
  {
   "cell_type": "code",
   "execution_count": 32,
   "metadata": {
    "execution": {
     "iopub.execute_input": "2022-03-20T15:02:29.925872Z",
     "iopub.status.busy": "2022-03-20T15:02:29.925157Z",
     "iopub.status.idle": "2022-03-20T15:02:40.249099Z",
     "shell.execute_reply": "2022-03-20T15:02:40.248336Z"
    },
    "papermill": {
     "duration": 10.360756,
     "end_time": "2022-03-20T15:02:40.249289",
     "exception": false,
     "start_time": "2022-03-20T15:02:29.888533",
     "status": "completed"
    },
    "tags": []
   },
   "outputs": [
    {
     "name": "stderr",
     "output_type": "stream",
     "text": [
      "/opt/conda/lib/python3.7/site-packages/ipykernel_launcher.py:18: RuntimeWarning: invalid value encountered in long_scalars\n"
     ]
    }
   ],
   "source": [
    "def attribute(df,col_name):\n",
    "    df['Average']=0.0\n",
    "    index_ba=df.columns.get_loc(\"Average\")\n",
    "    index_in=df.columns.get_loc(\"Innings_Number\")\n",
    "    index_inruns=df.columns.get_loc(\"Innings_Runs_Score\")\n",
    "    for row in range(len(df)):\n",
    "        inumber=df.iat[row,index_in]\n",
    "        inruns=df.iat[row,index_inruns]\n",
    "        df.iat[row,index_ba]=inruns/inumber\n",
    "\n",
    "    df['Strike_rate']=0.0\n",
    "    index_ba=df.columns.get_loc(\"Strike_rate\")\n",
    "    index_in=df.columns.get_loc(\"Innings_Balls_Faced\")\n",
    "    index_inruns=df.columns.get_loc(\"Innings_Runs_Score\")\n",
    "    for row in range(len(df)):\n",
    "        inumber=df.iat[row,index_in]\n",
    "        inruns=df.iat[row,index_inruns]\n",
    "        df.iat[row,index_ba]=(inruns/inumber)*100  \n",
    "     \n",
    "    index_new=df.columns.get_loc(col_name)\n",
    "    index_sr=df.columns.get_loc(\"Strike_rate\")\n",
    "    index_av=df.columns.get_loc(\"Average\")\n",
    "    index_in=df.columns.get_loc(\"Innings_Number\")\n",
    "    index_100=df.columns.get_loc(\"100s\")\n",
    "    index_50=df.columns.get_loc('50s')\n",
    "    index_HS=df.columns.get_loc('Innings_Runs_Score')\n",
    "\n",
    "    for row in range(len(df)):\n",
    "        f=0.4262*(df.iat[row,index_av])\n",
    "        f=f+0.2566*(df.iat[row,index_in])\n",
    "        f+=0.1510*(df.iat[row,index_sr])\n",
    "        f+=0.0787*(df.iat[row,index_100])\n",
    "        f+=0.0556*(df.iat[row,index_50])\n",
    "        f=f+(0.0328*(df.iat[row,index_HS]))\n",
    "        df.iat[row,index_new]=f\n",
    "    \n",
    "    return(df)\n",
    "    \n",
    "\n",
    "\n",
    "g=batsman.groupby(['Innings Player','Ground'])\n",
    "df=g.max()\n",
    "df['venue']=0.0\n",
    "df=attribute(df,'venue')\n",
    "df['Average_venue']=df['Average']\n",
    "df['Strike_rate_venue']=df['Strike_rate']\n",
    "drop=['Innings_Runs_Score','Innings Runs Scored Buckets','Innings_Boundary_Fours',\n",
    "       'Innings_Boundary_Sixes', 'Innings_Batting_Strike_Rate',\n",
    "       'Innings_Number', 'Innings_Balls_Faced', 'Year', 'Month', '50s', '100s',\n",
    "       '0s', 'Batting_Average','consistency', 'form','Average_Career','Strike_rate_Career','Average_Yearly',\n",
    "     'Strike_rate_Yearly','Average','Strike_rate','opposition','Average_Opposition','Strike_rate_Opposition']\n",
    "df.drop(drop,axis=1,inplace=True)\n",
    "on=['Innings Player','Ground']\n",
    "batsman=pd.merge(batsman,df,on=on, how='inner')"
   ]
  },
  {
   "cell_type": "markdown",
   "metadata": {
    "papermill": {
     "duration": 0.033251,
     "end_time": "2022-03-20T15:02:40.316511",
     "exception": false,
     "start_time": "2022-03-20T15:02:40.283260",
     "status": "completed"
    },
    "tags": []
   },
   "source": [
    "## Obtainings columns for total historical data "
   ]
  },
  {
   "cell_type": "code",
   "execution_count": 33,
   "metadata": {
    "execution": {
     "iopub.execute_input": "2022-03-20T15:02:40.386945Z",
     "iopub.status.busy": "2022-03-20T15:02:40.386393Z",
     "iopub.status.idle": "2022-03-20T15:02:40.574532Z",
     "shell.execute_reply": "2022-03-20T15:02:40.574934Z"
    },
    "papermill": {
     "duration": 0.224704,
     "end_time": "2022-03-20T15:02:40.575062",
     "exception": false,
     "start_time": "2022-03-20T15:02:40.350358",
     "status": "completed"
    },
    "tags": []
   },
   "outputs": [],
   "source": [
    "g=batsman.groupby(['Innings Player'])\n",
    "df=g.sum()\n",
    "drop=['Innings_Runs_Score','Innings_Boundary_Fours',\n",
    "       'Innings_Boundary_Sixes', 'Innings_Batting_Strike_Rate',\n",
    "       'Year', 'Month', 'Batting_Average','consistency', 'form','Average_Career','Strike_rate_Career','Average_Yearly',\n",
    "     'Strike_rate_Yearly','opposition','Average_Opposition','venue','Strike_rate_Opposition','Average_venue','Strike_rate_venue']\n",
    "df.drop(drop,axis=1,inplace=True)\n",
    "on=['Innings Player']\n",
    "batsman=pd.merge(batsman,df,on=on, how='inner')"
   ]
  },
  {
   "cell_type": "code",
   "execution_count": 34,
   "metadata": {
    "execution": {
     "iopub.execute_input": "2022-03-20T15:02:40.650479Z",
     "iopub.status.busy": "2022-03-20T15:02:40.649636Z",
     "iopub.status.idle": "2022-03-20T15:02:40.702738Z",
     "shell.execute_reply": "2022-03-20T15:02:40.703131Z"
    },
    "papermill": {
     "duration": 0.095108,
     "end_time": "2022-03-20T15:02:40.703264",
     "exception": false,
     "start_time": "2022-03-20T15:02:40.608156",
     "status": "completed"
    },
    "tags": []
   },
   "outputs": [],
   "source": [
    "batsman['50s']=batsman['50s_y']\n",
    "batsman['100s']=batsman['100s_y']\n",
    "batsman['0s']=batsman['0s_y']\n",
    "batsman['Innings_Balls_Faced']=batsman['Innings_Balls_Faced_y']\n",
    "batsman['Innings_Number']=batsman['Innings_Number_y']\n",
    "\n",
    "drop=['Opposition_y','Innings_Boundary_Fours','Innings_Boundary_Sixes','Day_y','Country_y','50s_x',\n",
    "      '100s_x','0s_x','Innings_Balls_Faced_x','Innings_Number_x','50s_y',\n",
    "      '100s_y','0s_y','Innings_Balls_Faced_y','Innings_Number_y',\n",
    "      'battingStyle_y','Name_y']\n",
    "batsman.drop(drop,axis=1,inplace=True)"
   ]
  },
  {
   "cell_type": "markdown",
   "metadata": {
    "papermill": {
     "duration": 0.03338,
     "end_time": "2022-03-20T15:02:40.771459",
     "exception": false,
     "start_time": "2022-03-20T15:02:40.738079",
     "status": "completed"
    },
    "tags": []
   },
   "source": [
    "# Rating The Attributes\n",
    "Here, we created bins/ratings for various attributes. We used these ratings instead of actual values of the measures, in the formulae of derived attributes. The measures are rated as follows:"
   ]
  },
  {
   "cell_type": "markdown",
   "metadata": {
    "papermill": {
     "duration": 0.033778,
     "end_time": "2022-03-20T15:02:40.839286",
     "exception": false,
     "start_time": "2022-03-20T15:02:40.805508",
     "status": "completed"
    },
    "tags": []
   },
   "source": [
    "### For Consistency:\n",
    "* 1 – 49: 1\n",
    "* 50 – 99: 2\n",
    "* 100 – 124: 3\n",
    "* 125 – 149: 4\n",
    "* Consistency>=150: 5 "
   ]
  },
  {
   "cell_type": "code",
   "execution_count": 35,
   "metadata": {
    "execution": {
     "iopub.execute_input": "2022-03-20T15:02:40.911590Z",
     "iopub.status.busy": "2022-03-20T15:02:40.911082Z",
     "iopub.status.idle": "2022-03-20T15:02:40.927952Z",
     "shell.execute_reply": "2022-03-20T15:02:40.928383Z"
    },
    "papermill": {
     "duration": 0.054434,
     "end_time": "2022-03-20T15:02:40.928509",
     "exception": false,
     "start_time": "2022-03-20T15:02:40.874075",
     "status": "completed"
    },
    "tags": []
   },
   "outputs": [],
   "source": [
    "dummy=[batsman]\n",
    "\n",
    "for dataset in dummy:\n",
    "    dataset.loc[dataset['consistency']<=49, 'consistency']=1,\n",
    "    dataset.loc[(dataset['consistency']>49) & (dataset['consistency']<=99), 'consistency']=2,\n",
    "    dataset.loc[(dataset['consistency']>99) & (dataset['consistency']<=124), 'consistency']=3,\n",
    "    dataset.loc[(dataset['consistency']>124) & (dataset['consistency']<=149), 'consistency']=4,\n",
    "    dataset.loc[dataset['consistency']>149, 'consistency']=5    "
   ]
  },
  {
   "cell_type": "markdown",
   "metadata": {
    "papermill": {
     "duration": 0.033854,
     "end_time": "2022-03-20T15:02:40.996295",
     "exception": false,
     "start_time": "2022-03-20T15:02:40.962441",
     "status": "completed"
    },
    "tags": []
   },
   "source": [
    "### For Form:\n",
    "* 1 – 4: 1\n",
    "* 5 – 9: 2\n",
    "* 10 – 11: 3\n",
    "* 12 – 14: 4\n",
    "* Form>=15: 5 \n"
   ]
  },
  {
   "cell_type": "code",
   "execution_count": 36,
   "metadata": {
    "execution": {
     "iopub.execute_input": "2022-03-20T15:02:41.074093Z",
     "iopub.status.busy": "2022-03-20T15:02:41.073243Z",
     "iopub.status.idle": "2022-03-20T15:02:41.086238Z",
     "shell.execute_reply": "2022-03-20T15:02:41.086730Z"
    },
    "papermill": {
     "duration": 0.057377,
     "end_time": "2022-03-20T15:02:41.086860",
     "exception": false,
     "start_time": "2022-03-20T15:02:41.029483",
     "status": "completed"
    },
    "tags": []
   },
   "outputs": [],
   "source": [
    "dummy=[batsman]\n",
    "for dataset in dummy:\n",
    "    dataset.loc[dataset['form']<=4, 'form']=1,\n",
    "    dataset.loc[(dataset['form']>4) & (dataset['form']<=9), 'form']=2,\n",
    "    dataset.loc[(dataset['form']>9) & (dataset['form']<=11), 'form']=3,\n",
    "    dataset.loc[(dataset['form']>11) & (dataset['form']<=14), 'form']=4,\n",
    "    dataset.loc[(dataset['form']>14), 'form']=5"
   ]
  },
  {
   "cell_type": "markdown",
   "metadata": {
    "papermill": {
     "duration": 0.032166,
     "end_time": "2022-03-20T15:02:41.156480",
     "exception": false,
     "start_time": "2022-03-20T15:02:41.124314",
     "status": "completed"
    },
    "tags": []
   },
   "source": [
    "### For Opposition:\n",
    "* 1 – 2: 1\n",
    "* 3 – 4: 2\n",
    "* 5 – 6: 3\n",
    "* 7 – 9: 4\n",
    "* Opposition>=10: 5 \n"
   ]
  },
  {
   "cell_type": "code",
   "execution_count": 37,
   "metadata": {
    "execution": {
     "iopub.execute_input": "2022-03-20T15:02:41.225600Z",
     "iopub.status.busy": "2022-03-20T15:02:41.225072Z",
     "iopub.status.idle": "2022-03-20T15:02:41.241206Z",
     "shell.execute_reply": "2022-03-20T15:02:41.241647Z"
    },
    "papermill": {
     "duration": 0.0528,
     "end_time": "2022-03-20T15:02:41.241792",
     "exception": false,
     "start_time": "2022-03-20T15:02:41.188992",
     "status": "completed"
    },
    "tags": []
   },
   "outputs": [],
   "source": [
    "dummy=[batsman]\n",
    "for dataset in dummy:\n",
    "    dataset.loc[dataset['opposition']<=2, 'opposition']=1,\n",
    "    dataset.loc[(dataset['opposition']>2) & (dataset['opposition']<=4), 'opposition']=2,\n",
    "    dataset.loc[(dataset['opposition']>4) & (dataset['opposition']<=6), 'opposition']=3,\n",
    "    dataset.loc[(dataset['opposition']>6) & (dataset['opposition']<=9), 'opposition']=4,\n",
    "    dataset.loc[dataset['opposition']>9, 'opposition']=5\n",
    "    "
   ]
  },
  {
   "cell_type": "markdown",
   "metadata": {
    "papermill": {
     "duration": 0.034388,
     "end_time": "2022-03-20T15:02:41.310755",
     "exception": false,
     "start_time": "2022-03-20T15:02:41.276367",
     "status": "completed"
    },
    "tags": []
   },
   "source": [
    "### For Venue:\n",
    "* 1: 1\n",
    "* 2: 2\n",
    "* 3: 3\n",
    "* 4: 4\n",
    "* Venue>=5: 5 \n"
   ]
  },
  {
   "cell_type": "code",
   "execution_count": 38,
   "metadata": {
    "execution": {
     "iopub.execute_input": "2022-03-20T15:02:41.387614Z",
     "iopub.status.busy": "2022-03-20T15:02:41.387108Z",
     "iopub.status.idle": "2022-03-20T15:02:41.398552Z",
     "shell.execute_reply": "2022-03-20T15:02:41.398992Z"
    },
    "papermill": {
     "duration": 0.054223,
     "end_time": "2022-03-20T15:02:41.399112",
     "exception": false,
     "start_time": "2022-03-20T15:02:41.344889",
     "status": "completed"
    },
    "tags": []
   },
   "outputs": [],
   "source": [
    "dummy=[batsman]\n",
    "for dataset in dummy:\n",
    "    dataset.loc[dataset['venue']<=1, 'venue']=1,\n",
    "    dataset.loc[(dataset['venue']>1) & (dataset['venue']<=2), 'venue']=2,\n",
    "    dataset.loc[(dataset['venue']>2) & (dataset['venue']<=3), 'venue']=3,\n",
    "    dataset.loc[(dataset['venue']>3) & (dataset['venue']<=4), 'venue']=4,\n",
    "    dataset.loc[(dataset['venue'])>=5,'venue']=5"
   ]
  },
  {
   "cell_type": "markdown",
   "metadata": {
    "papermill": {
     "duration": 0.034077,
     "end_time": "2022-03-20T15:02:41.467412",
     "exception": false,
     "start_time": "2022-03-20T15:02:41.433335",
     "status": "completed"
    },
    "tags": []
   },
   "source": [
    "### Batting Average (for all derived attributes):\n",
    "* 0.0 - 9.99: 1\n",
    "* 10.00 - 19.99: 2\n",
    "* 20.00 - 29.99: 3\n",
    "* 30.00 - 39.99: 4 \n",
    "* Batting Average>=40: 5"
   ]
  },
  {
   "cell_type": "code",
   "execution_count": 39,
   "metadata": {
    "execution": {
     "iopub.execute_input": "2022-03-20T15:02:41.538197Z",
     "iopub.status.busy": "2022-03-20T15:02:41.537687Z",
     "iopub.status.idle": "2022-03-20T15:02:41.591223Z",
     "shell.execute_reply": "2022-03-20T15:02:41.591650Z"
    },
    "papermill": {
     "duration": 0.090291,
     "end_time": "2022-03-20T15:02:41.591788",
     "exception": false,
     "start_time": "2022-03-20T15:02:41.501497",
     "status": "completed"
    },
    "tags": []
   },
   "outputs": [],
   "source": [
    "def average(df,col_name):\n",
    "    dummy=[df]\n",
    "    for dataset in dummy:\n",
    "        dataset.loc[dataset[col_name]<=9.99, col_name]=1,\n",
    "        dataset.loc[(dataset[col_name]>=10.00) & (dataset[col_name]<=19.99), col_name]=2,\n",
    "        dataset.loc[(dataset[col_name]>=20.00) & (dataset[col_name]<=29.99), col_name]=3,\n",
    "        dataset.loc[(dataset[col_name]>=30.00) & (dataset[col_name]<=39.99), col_name]=4,\n",
    "        dataset.loc[(dataset[col_name])>=40,col_name]=5\n",
    "    \n",
    "\n",
    "average(batsman,'Batting_Average')\n",
    "average(batsman,'Average_Career')\n",
    "average(batsman,'Average_Yearly')\n",
    "average(batsman,'Average_Opposition')\n",
    "average(batsman,'Average_venue')  "
   ]
  },
  {
   "cell_type": "markdown",
   "metadata": {
    "papermill": {
     "duration": 0.033884,
     "end_time": "2022-03-20T15:02:41.660536",
     "exception": false,
     "start_time": "2022-03-20T15:02:41.626652",
     "status": "completed"
    },
    "tags": []
   },
   "source": [
    "### Batting Strike Rate (for all derived attributes):\n",
    "* 0.0 - 49.99: 1\n",
    "* 50.00 - 59.99: 2\n",
    "* 60.00 - 79.99: 3\n",
    "* 80.00 - 100.00: 4\n",
    "* Strike Rate>=100.00: 5 \n"
   ]
  },
  {
   "cell_type": "code",
   "execution_count": 40,
   "metadata": {
    "execution": {
     "iopub.execute_input": "2022-03-20T15:02:41.728247Z",
     "iopub.status.busy": "2022-03-20T15:02:41.727804Z",
     "iopub.status.idle": "2022-03-20T15:02:41.781787Z",
     "shell.execute_reply": "2022-03-20T15:02:41.782136Z"
    },
    "papermill": {
     "duration": 0.089286,
     "end_time": "2022-03-20T15:02:41.782245",
     "exception": false,
     "start_time": "2022-03-20T15:02:41.692959",
     "status": "completed"
    },
    "tags": []
   },
   "outputs": [],
   "source": [
    "def SR(df,col_name):\n",
    "    dummy=[df]\n",
    "    for dataset in dummy:\n",
    "        dataset.loc[dataset[col_name]<=49.99, col_name]=1,\n",
    "        dataset.loc[(dataset[col_name]>=50.00) & (dataset[col_name]<=59.99), col_name]=2,\n",
    "        dataset.loc[(dataset[col_name]>=60.00) & (dataset[col_name]<=79.99), col_name]=3,\n",
    "        dataset.loc[(dataset[col_name]>=80.00) & (dataset[col_name]<=100), col_name]=4,\n",
    "        dataset.loc[(dataset[col_name])>100,col_name]=5\n",
    "        \n",
    "    \n",
    "SR(batsman,'Innings_Batting_Strike_Rate')\n",
    "SR(batsman,'Strike_rate_Career')\n",
    "SR(batsman,'Strike_rate_Yearly')\n",
    "SR(batsman,'Strike_rate_Opposition')\n",
    "SR(batsman,'Strike_rate_venue')"
   ]
  },
  {
   "cell_type": "markdown",
   "metadata": {
    "papermill": {
     "duration": 0.033253,
     "end_time": "2022-03-20T15:02:41.847983",
     "exception": false,
     "start_time": "2022-03-20T15:02:41.814730",
     "status": "completed"
    },
    "tags": []
   },
   "source": [
    "### Target variable binning\n",
    "Runs are predicted in five classes:\n",
    "* 1 – 24: 1\n",
    "* 25 – 49: 2\n",
    "* 50 – 74: 3\n",
    "* 75 – 99: 4\n",
    "* Runs>=100: 5"
   ]
  },
  {
   "cell_type": "code",
   "execution_count": 41,
   "metadata": {
    "execution": {
     "iopub.execute_input": "2022-03-20T15:02:41.915952Z",
     "iopub.status.busy": "2022-03-20T15:02:41.915474Z",
     "iopub.status.idle": "2022-03-20T15:02:41.934352Z",
     "shell.execute_reply": "2022-03-20T15:02:41.934787Z"
    },
    "papermill": {
     "duration": 0.054739,
     "end_time": "2022-03-20T15:02:41.934920",
     "exception": false,
     "start_time": "2022-03-20T15:02:41.880181",
     "status": "completed"
    },
    "tags": []
   },
   "outputs": [],
   "source": [
    "dummy=[batsman]\n",
    "col='Innings_Runs_Score'\n",
    "for dataset in dummy:\n",
    "    dataset.loc[dataset[col]<=24, col]=1,\n",
    "    dataset.loc[(dataset[col]>24) & (dataset[col]<=49), col]=2,\n",
    "    dataset.loc[(dataset[col]>=50) & (dataset[col]<=74), col]=3,\n",
    "    dataset.loc[(dataset[col]>74) & (dataset[col]<=99), col]=4,\n",
    "    dataset.loc[(dataset[col])>=100,col]=5"
   ]
  },
  {
   "cell_type": "markdown",
   "metadata": {
    "papermill": {
     "duration": 0.034872,
     "end_time": "2022-03-20T15:02:42.004421",
     "exception": false,
     "start_time": "2022-03-20T15:02:41.969549",
     "status": "completed"
    },
    "tags": []
   },
   "source": [
    "## Saving final csv file"
   ]
  },
  {
   "cell_type": "code",
   "execution_count": 42,
   "metadata": {
    "execution": {
     "iopub.execute_input": "2022-03-20T15:02:42.114586Z",
     "iopub.status.busy": "2022-03-20T15:02:42.114029Z",
     "iopub.status.idle": "2022-03-20T15:02:43.636302Z",
     "shell.execute_reply": "2022-03-20T15:02:43.636769Z"
    },
    "papermill": {
     "duration": 1.597643,
     "end_time": "2022-03-20T15:02:43.636896",
     "exception": false,
     "start_time": "2022-03-20T15:02:42.039253",
     "status": "completed"
    },
    "tags": []
   },
   "outputs": [],
   "source": [
    "batsman.to_csv('cricket_batsman_information.csv', header=True, index=False)"
   ]
  }
 ],
 "metadata": {
  "kernelspec": {
   "display_name": "Python 3 (ipykernel)",
   "language": "python",
   "name": "python3"
  },
  "language_info": {
   "codemirror_mode": {
    "name": "ipython",
    "version": 3
   },
   "file_extension": ".py",
   "mimetype": "text/x-python",
   "name": "python",
   "nbconvert_exporter": "python",
   "pygments_lexer": "ipython3",
   "version": "3.10.4"
  },
  "papermill": {
   "duration": 59.792208,
   "end_time": "2022-03-20T15:02:43.778221",
   "environment_variables": {},
   "exception": null,
   "input_path": "__notebook__.ipynb",
   "output_path": "__notebook__.ipynb",
   "parameters": {},
   "start_time": "2022-03-20T15:01:43.986013",
   "version": "2.1.0"
  }
 },
 "nbformat": 4,
 "nbformat_minor": 4
}
